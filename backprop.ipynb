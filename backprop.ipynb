{
 "cells": [
  {
   "cell_type": "code",
   "execution_count": 2,
   "metadata": {},
   "outputs": [
    {
     "data": {
      "image/png": "[encoded data removed]",
      "text/plain": [
       "<Figure size 432x288 with 1 Axes>"
      ]
     },
     "metadata": {
      "needs_background": "light"
     },
     "output_type": "display_data"
    }
   ],
   "source": [
    "from torchray.attribution.excitation_backprop import contrastive_excitation_backprop\n",
    "from torchray.benchmark import get_example_data, plot_example\n",
    "\n",
    "# Obtain example data.\n",
    "model, x, category_id, _ = get_example_data()\n",
    "\n",
    "# Contrastive excitation backprop.\n",
    "saliency = contrastive_excitation_backprop(\n",
    "    model,\n",
    "    x,\n",
    "    category_id,\n",
    "    saliency_layer='features.9',\n",
    "    contrast_layer='features.30',\n",
    "    classifier_layer='classifier.6',\n",
    ")\n",
    "\n",
    "# Plots.\n",
    "plot_example(x, saliency, 'contrastive excitation backprop', category_id)"
   ]
  },
  {
   "cell_type": "code",
   "execution_count": null,
   "metadata": {},
   "outputs": [],
   "source": [
    "from torchray.attribution.deconvnet import deconvnet\n",
    "from torchray.benchmark import get_example_data, plot_example\n",
    "\n",
    "# Obtain example data.\n",
    "model, x, category_id, _ = get_example_data()\n",
    "\n",
    "# DeConvNet method.\n",
    "saliency = deconvnet(model, x, category_id)\n",
    "\n",
    "# Plots.\n",
    "plot_example(x, saliency, 'deconvnet', category_id)"
   ]
  },
  {
   "cell_type": "code",
   "execution_count": null,
   "metadata": {},
   "outputs": [],
   "source": [
    "from torchray.attribution.excitation_backprop import excitation_backprop\n",
    "from torchray.benchmark import get_example_data, plot_example\n",
    "\n",
    "# Obtain example data.\n",
    "model, x, category_id,_ = get_example_data()\n",
    "\n",
    "# Contrastive excitation backprop.\n",
    "saliency = excitation_backprop(\n",
    "    model,\n",
    "    x,\n",
    "    category_id,\n",
    "    saliency_layer='features.9',\n",
    ")\n",
    "\n",
    "# Plots.\n",
    "plot_example(x, saliency, 'excitation backprop', category_id)"
   ]
  },
  {
   "cell_type": "code",
   "execution_count": null,
   "metadata": {},
   "outputs": [],
   "source": [
    "from torchray.attribution.extremal_perturbation import extremal_perturbation, contrastive_reward\n",
    "from torchray.benchmark import get_example_data, plot_example\n",
    "\n",
    "# Obtain example data.\n",
    "model, x, category_id_1, category_id_2 = get_example_data()\n",
    "print(x.shape)\n",
    "# Extremal perturbation backprop.\n",
    "masks_1, _ = extremal_perturbation(\n",
    "\n",
    "    model, x, category_id_1,\n",
    "    reward_func=contrastive_reward,\n",
    "    debug=True,\n",
    "    areas=[0.05],\n",
    ")\n",
    "\n",
    "#masks_2, _ = extremal_perturbation(\n",
    "    #model, x, category_id_2,\n",
    "    #reward_func=contrastive_reward,\n",
    "    #debug=True,\n",
    "    #areas=[0.05],\n",
    "#)\n",
    "\n",
    "# Plots.\n",
    "plot_example(x, masks_1, 'extremal perturbation', category_id_1)\n",
    "#plot_example(x, masks_2, 'extremal perturbation', category_id_2)"
   ]
  },
  {
   "cell_type": "code",
   "execution_count": null,
   "metadata": {},
   "outputs": [],
   "source": [
    "from torchray.attribution.common import Probe, get_module\n",
    "from torchray.attribution.grad_cam import gradient_to_grad_cam_saliency\n",
    "from torchray.benchmark import get_example_data, plot_example\n",
    "\n",
    "# Obtain example data.\n",
    "model, x, category_id, _ = get_example_data()\n",
    "\n",
    "# Grad-CAM backprop.\n",
    "saliency_layer = get_module(model, 'features.29')\n",
    "\n",
    "probe = Probe(saliency_layer, target='output')\n",
    "\n",
    "y = model(x)\n",
    "z = y[0, category_id]\n",
    "z.backward()\n",
    "\n",
    "saliency = gradient_to_grad_cam_saliency(probe.data[0])\n",
    "\n",
    "# Plots.\n",
    "plot_example(x, saliency, 'grad-cam backprop', category_id)"
   ]
  },
  {
   "cell_type": "code",
   "execution_count": null,
   "metadata": {},
   "outputs": [],
   "source": [
    "from torchray.attribution.gradient import gradient\n",
    "from torchray.benchmark import get_example_data, plot_example\n",
    "\n",
    "# Obtain example data.\n",
    "model, x, category_id, _ = get_example_data()\n",
    "\n",
    "# Gradient method.\n",
    "saliency = gradient(model, x, category_id)\n",
    "\n",
    "# Plots.\n",
    "plot_example(x, saliency, 'gradient', category_id)"
   ]
  },
  {
   "cell_type": "code",
   "execution_count": null,
   "metadata": {},
   "outputs": [],
   "source": [
    "from torchray.attribution.common import gradient_to_saliency\n",
    "from torchray.attribution.guided_backprop import GuidedBackpropContext\n",
    "from torchray.benchmark import get_example_data, plot_example\n",
    "\n",
    "# Obtain example data.\n",
    "model, x, category_id, _ = get_example_data()\n",
    "\n",
    "# Guided backprop.\n",
    "x.requires_grad_(True)\n",
    "\n",
    "with GuidedBackpropContext():\n",
    "    y = model(x)\n",
    "    z = y[0, category_id]\n",
    "    z.backward()\n",
    "\n",
    "saliency = gradient_to_saliency(x)\n",
    "\n",
    "# Plots.\n",
    "plot_example(x, saliency, 'guided backprop', category_id)"
   ]
  },
  {
   "cell_type": "code",
   "execution_count": null,
   "metadata": {},
   "outputs": [],
   "source": [
    "from torchray.attribution.rise import rise\n",
    "from torchray.benchmark import get_example_data, plot_example\n",
    "from torchray.utils import get_device\n",
    "\n",
    "# Obtain example data.\n",
    "model, x, category_id, _ = get_example_data()\n",
    "\n",
    "# Run on GPU if available.\n",
    "device = get_device()\n",
    "model.to(device)\n",
    "x = x.to(device)\n",
    "\n",
    "# RISE method.\n",
    "saliency = rise(model, x)\n",
    "saliency = saliency[:, category_id].unsqueeze(0)\n",
    "\n",
    "# Plots.\n",
    "plot_example(x, saliency, 'RISE', category_id)"
   ]
  }
 ],
 "metadata": {
  "kernelspec": {
   "display_name": "Python [conda env:tor]",
   "language": "python",
   "name": "conda-env-tor-py"
  },
  "language_info": {
   "codemirror_mode": {
    "name": "ipython",
    "version": 3
   },
   "file_extension": ".py",
   "mimetype": "text/x-python",
   "name": "python",
   "nbconvert_exporter": "python",
   "pygments_lexer": "ipython3",
   "version": "3.7.9"
  }
 },
 "nbformat": 4,
 "nbformat_minor": 4
}
